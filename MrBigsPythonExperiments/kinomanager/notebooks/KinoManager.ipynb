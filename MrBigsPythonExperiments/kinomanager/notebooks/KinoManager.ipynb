{
 "cells": [
  {
   "metadata": {
    "ExecuteTime": {
     "end_time": "2025-03-17T11:39:35.933615Z",
     "start_time": "2025-03-17T11:39:35.930857Z"
    }
   },
   "cell_type": "code",
   "source": [
    "class Film:\n",
    "    def __init__(self, titel: str, produktionsjahr: int, laenge: int):\n",
    "        self.titel = titel\n",
    "        self.produktionsjahr = produktionsjahr\n",
    "        self.laenge = laenge\n",
    "        self.vorstellungen = []\n",
    "\n",
    "    def einfuegen(self, vorstellung):\n",
    "        self.vorstellungen.append(vorstellung)\n",
    "        self.vorstellungen.sort(key=lambda v: v.datumUhrzeit)  # Sortieren nach Datum und Uhrzeit"
   ],
   "id": "68abcc862bc5b4f8",
   "outputs": [],
   "execution_count": 2
  },
  {
   "metadata": {
    "ExecuteTime": {
     "end_time": "2025-03-17T11:39:37.017610Z",
     "start_time": "2025-03-17T11:39:37.014562Z"
    }
   },
   "cell_type": "code",
   "source": [
    "from datetime import datetime\n",
    "\n",
    "class Kinosaal:\n",
    "    def __init__(self, nr: int, reihen: int, sitzeProReihe: int):\n",
    "        self.nr = nr\n",
    "        self.reihen = reihen\n",
    "        self.sitzeProReihe = sitzeProReihe\n",
    "        self.vorstellungen = []\n",
    "\n",
    "    def einfuegen(self, vorstellung):\n",
    "        self.vorstellungen.append(vorstellung)\n",
    "\n",
    "    def istFrei(self, datumUhrzeit: datetime, dauer: int) -> bool:\n",
    "        for v in self.vorstellungen:\n",
    "            if abs((v.datumUhrzeit - datumUhrzeit).total_seconds()) < dauer * 60:\n",
    "                return False\n",
    "        return True"
   ],
   "id": "9bb5f2652d23d57",
   "outputs": [],
   "execution_count": 3
  },
  {
   "metadata": {
    "ExecuteTime": {
     "end_time": "2025-03-17T12:34:12.281538Z",
     "start_time": "2025-03-17T12:34:12.271917Z"
    }
   },
   "cell_type": "code",
   "source": [
    "from datetime import datetime\n",
    "\n",
    "class Vorstellung:\n",
    "    BASISPREIS = 10.00\n",
    "    AUFPREISUEBERLAENGE = 3.50\n",
    "\n",
    "    def __init__(self, kinosaal, film, datumUhrzeit: datetime):\n",
    "        self.kinosaal = kinosaal\n",
    "        self.film = film\n",
    "        self.datumUhrzeit = datumUhrzeit\n",
    "        self.sitzbelegung = [[False] * kinosaal.sitzeProReihe for _ in range(kinosaal.reihen)]\n",
    "\n",
    "    def sucheBesteFreieSitze(self, anzahl: int) -> int:\n",
    "        for row in range(len(self.sitzbelegung) - 1, -1, -1):  # Von hinten nach vorne suchen\n",
    "            for col in range(len(self.sitzbelegung[0]) - anzahl + 1):\n",
    "                if all(not self.sitzbelegung[row][col + i] for i in range(anzahl)):\n",
    "                    return row * len(self.sitzbelegung[0]) + col + 1\n",
    "        return 0\n",
    "\n",
    "    def belegeSitz(self, sitzNr: int) -> bool:\n",
    "        row, col = divmod(sitzNr - 1, len(self.sitzbelegung[0]))\n",
    "        if not self.sitzbelegung[row][col]:\n",
    "            self.sitzbelegung[row][col] = True\n",
    "            return True\n",
    "        return False\n",
    "\n",
    "    def berechneNormalpreis(self) -> float:\n",
    "        return self.BASISPREIS + (self.AUFPREISUEBERLAENGE if self.film.laenge > 150 else 0)"
   ],
   "id": "11f93926be9b2c0a",
   "outputs": [],
   "execution_count": 7
  },
  {
   "cell_type": "code",
   "id": "initial_id",
   "metadata": {
    "collapsed": true,
    "ExecuteTime": {
     "end_time": "2025-03-17T11:39:45.296366Z",
     "start_time": "2025-03-17T11:39:45.289960Z"
    }
   },
   "source": [
    "from datetime import datetime\n",
    "\n",
    "\n",
    "\n",
    "class KinoManager:\n",
    "    def __init__(self):\n",
    "        self.kinosaele = []\n",
    "        self.filme = []\n",
    "\n",
    "    def zeigeFilme(self):\n",
    "        return self.filme\n",
    "\n",
    "    def zeigeVorstellungenZuFilm(self, film):\n",
    "        return film.vorstellungen\n",
    "\n",
    "    def zeigeSitzbelegungZuVorstellung(self, vorstellung):\n",
    "        return vorstellung.sitzbelegung\n",
    "\n",
    "    def sucheBesteFreieSitze(self, vorst, anzahl: int) -> int:\n",
    "        return vorst.sucheBesteFreieSitze(anzahl)\n",
    "\n",
    "    def belegeSitze(self, vorst, sitznr: int, anzahl: int) -> bool:\n",
    "        return vorst.belegeSitz(sitznr)\n",
    "\n",
    "    def erstelleVorstellung(self, film, anzahlPlaetze: int, datumUhrzeit: datetime):\n",
    "        for saal in self.kinosaele:\n",
    "            if saal.sitzeProReihe * saal.reihen >= anzahlPlaetze and saal.istFrei(datumUhrzeit, film.laenge):\n",
    "                vorstellung = Vorstellung(saal, film, datumUhrzeit)\n",
    "                saal.einfuegen(vorstellung)\n",
    "                film.einfuegen(vorstellung)\n",
    "                return vorstellung\n",
    "        return None\n",
    "\n",
    "\n",
    "if __name__ == \"__main__\":\n",
    "    manager = KinoManager()\n",
    "    saal1 = Kinosaal(1, 10, 15)\n",
    "    manager.kinosaele.append(saal1)\n",
    "\n",
    "    film1 = Film(\"Inception\", 2010, 148)\n",
    "    manager.filme.append(film1)\n",
    "\n",
    "    vorstellung1 = manager.erstelleVorstellung(film1, 150, datetime(2025, 3, 10, 20, 0))\n",
    "\n",
    "    print(\"Filme im Kino:\", [film.titel for film in manager.zeigeFilme()])\n",
    "    print(\"Vorstellungen für Inception:\", len(manager.zeigeVorstellungenZuFilm(film1)))\n",
    "    print(\"Normalpreis für die Vorstellung:\", vorstellung1.berechneNormalpreis())"
   ],
   "outputs": [
    {
     "name": "stdout",
     "output_type": "stream",
     "text": [
      "Filme im Kino: ['Inception']\n",
      "Vorstellungen für Inception: 1\n",
      "Normalpreis für die Vorstellung: 10.0\n"
     ]
    }
   ],
   "execution_count": 6
  }
 ],
 "metadata": {
  "kernelspec": {
   "display_name": "Python 3",
   "language": "python",
   "name": "python3"
  },
  "language_info": {
   "codemirror_mode": {
    "name": "ipython",
    "version": 2
   },
   "file_extension": ".py",
   "mimetype": "text/x-python",
   "name": "python",
   "nbconvert_exporter": "python",
   "pygments_lexer": "ipython2",
   "version": "2.7.6"
  }
 },
 "nbformat": 4,
 "nbformat_minor": 5
}
