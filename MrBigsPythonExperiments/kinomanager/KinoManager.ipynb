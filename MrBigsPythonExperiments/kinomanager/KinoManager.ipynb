{
 "cells": [
  {
   "cell_type": "code",
   "id": "initial_id",
   "metadata": {
    "collapsed": true,
    "ExecuteTime": {
     "end_time": "2025-03-17T11:27:47.246608Z",
     "start_time": "2025-03-17T11:27:47.240664Z"
    }
   },
   "source": [
    "from datetime import datetime\n",
    "\n",
    "from kinomanager.Film import Film\n",
    "from kinomanager.Kinosaal import Kinosaal\n",
    "from kinomanager.Vorstellung import Vorstellung\n",
    "\n",
    "\n",
    "class KinoManager:\n",
    "    def __init__(self):\n",
    "        self.kinosaele = []\n",
    "        self.filme = []\n",
    "\n",
    "    def zeigeFilme(self):\n",
    "        return self.filme\n",
    "\n",
    "    def zeigeVorstellungenZuFilm(self, film):\n",
    "        return film.vorstellungen\n",
    "\n",
    "    def zeigeSitzbelegungZuVorstellung(self, vorstellung):\n",
    "        return vorstellung.sitzbelegung\n",
    "\n",
    "    def sucheBesteFreieSitze(self, vorst, anzahl: int) -> int:\n",
    "        return vorst.sucheBesteFreieSitze(anzahl)\n",
    "\n",
    "    def belegeSitze(self, vorst, sitznr: int, anzahl: int) -> bool:\n",
    "        return vorst.belegeSitz(sitznr)\n",
    "\n",
    "    def erstelleVorstellung(self, film, anzahlPlaetze: int, datumUhrzeit: datetime):\n",
    "        for saal in self.kinosaele:\n",
    "            if saal.sitzeProReihe * saal.reihen >= anzahlPlaetze and saal.istFrei(datumUhrzeit, film.laenge):\n",
    "                vorstellung = Vorstellung(saal, film, datumUhrzeit)\n",
    "                saal.einfuegen(vorstellung)\n",
    "                film.einfuegen(vorstellung)\n",
    "                return vorstellung\n",
    "        return None\n",
    "\n",
    "\n",
    "if __name__ == \"__main__\":\n",
    "    manager = KinoManager()\n",
    "    saal1 = Kinosaal(1, 10, 15)\n",
    "    manager.kinosaele.append(saal1)\n",
    "\n",
    "    film1 = Film(\"Inception\", 2010, 148)\n",
    "    manager.filme.append(film1)\n",
    "\n",
    "    vorstellung1 = manager.erstelleVorstellung(film1, 150, datetime(2025, 3, 10, 20, 0))\n",
    "\n",
    "    print(\"Filme im Kino:\", [film.titel for film in manager.zeigeFilme()])\n",
    "    print(\"Vorstellungen für Inception:\", len(manager.zeigeVorstellungenZuFilm(film1)))\n",
    "    print(\"Normalpreis für die Vorstellung:\", vorstellung1.berechneNormalpreis())\n"
   ],
   "outputs": [
    {
     "name": "stdout",
     "output_type": "stream",
     "text": [
      "Filme im Kino: ['Inception']\n",
      "Vorstellungen für Inception: 1\n",
      "Normalpreis für die Vorstellung: 10.0\n"
     ]
    }
   ],
   "execution_count": 1
  }
 ],
 "metadata": {
  "kernelspec": {
   "display_name": "Python 3",
   "language": "python",
   "name": "python3"
  },
  "language_info": {
   "codemirror_mode": {
    "name": "ipython",
    "version": 2
   },
   "file_extension": ".py",
   "mimetype": "text/x-python",
   "name": "python",
   "nbconvert_exporter": "python",
   "pygments_lexer": "ipython2",
   "version": "2.7.6"
  }
 },
 "nbformat": 4,
 "nbformat_minor": 5
}
